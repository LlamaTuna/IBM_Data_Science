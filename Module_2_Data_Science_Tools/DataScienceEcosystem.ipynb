{
 "cells": [
  {
   "cell_type": "markdown",
   "id": "7c56c67f",
   "metadata": {},
   "source": [
    "# Data Science Tools and Ecosystem"
   ]
  },
  {
   "cell_type": "markdown",
   "id": "cf6f8431",
   "metadata": {},
   "source": [
    "In this notebook, Data Science Tools and Ecosystem are summarized."
   ]
  },
  {
   "cell_type": "markdown",
   "id": "c5b1b1e9",
   "metadata": {},
   "source": [
    "Some ofSome of the popular languages that Data Scientists use are:\n",
    "1. Python\n",
    "2. R\n",
    "3. SQL\n",
    "4. Julia\n"
   ]
  },
  {
   "cell_type": "markdown",
   "id": "2d6b9f58",
   "metadata": {},
   "source": [
    "Some of the commonly used libraries used by Data Scientists include:\n",
    "1. Pandas\n",
    "2. NumPy\n",
    "3. TensorFlow\n"
   ]
  },
  {
   "cell_type": "markdown",
   "id": "0ad45f04",
   "metadata": {},
   "source": [
    "| Data Science Tools |\n",
    "|--------------------|\n",
    "| Jupyter Notebook   |\n",
    "| RStudio            |\n",
    "| VSCode             |\n"
   ]
  },
  {
   "cell_type": "markdown",
   "id": "2ff1b8eb",
   "metadata": {},
   "source": [
    "### Below are a few examples of evaluating arithmetic expressions in Python.\n"
   ]
  },
  {
   "cell_type": "code",
   "execution_count": 5,
   "id": "dd5d6b7b",
   "metadata": {},
   "outputs": [
    {
     "name": "stdout",
     "output_type": "stream",
     "text": [
      "(3*4) + 5 is equal to 17.\n"
     ]
    }
   ],
   "source": [
    "def multiply_and_add(a, b, c):\n",
    "    \"\"\"Multiplies two numbers and then adds a third number.\"\"\"\n",
    "    return (a * b) + c\n",
    "\n",
    "# Test the function\n",
    "result = multiply_and_add(3, 4, 5)\n",
    "print(f\"(3*4) + 5 is equal to {result}.\")\n",
    "\n"
   ]
  },
  {
   "cell_type": "code",
   "execution_count": 7,
   "id": "e4ee00d8",
   "metadata": {},
   "outputs": [
    {
     "name": "stdout",
     "output_type": "stream",
     "text": [
      "200 minutes is equal to 3.3333333333333335 hours.\n"
     ]
    }
   ],
   "source": [
    "def minutes_to_hours(minutes):\n",
    "    \"\"\"Converts minutes to hours.\"\"\"\n",
    "    return minutes / 60\n",
    "\n",
    "# Test the function\n",
    "hours = minutes_to_hours(200)\n",
    "print(f\"200 minutes is equal to {hours} hours.\")\n"
   ]
  },
  {
   "cell_type": "markdown",
   "id": "cbe43b38",
   "metadata": {},
   "source": [
    "**Objectives:**\n",
    "- Introduce common Data Science Tools and Ecosystem.\n",
    "- List popular languages for Data Science.\n",
    "- Provide examples of arithmetic operations in Python.\n",
    "- Demonstrate how to structure content in a Jupyter Notebook.\n"
   ]
  },
  {
   "cell_type": "markdown",
   "id": "744fecdc",
   "metadata": {},
   "source": [
    "## Author\n",
    "Jeff Becker\n"
   ]
  },
  {
   "cell_type": "code",
   "execution_count": null,
   "id": "54f82909",
   "metadata": {},
   "outputs": [],
   "source": []
  }
 ],
 "metadata": {
  "kernelspec": {
   "display_name": "Python 3 (ipykernel)",
   "language": "python",
   "name": "python3"
  },
  "language_info": {
   "codemirror_mode": {
    "name": "ipython",
    "version": 3
   },
   "file_extension": ".py",
   "mimetype": "text/x-python",
   "name": "python",
   "nbconvert_exporter": "python",
   "pygments_lexer": "ipython3",
   "version": "3.9.12"
  }
 },
 "nbformat": 4,
 "nbformat_minor": 5
}
